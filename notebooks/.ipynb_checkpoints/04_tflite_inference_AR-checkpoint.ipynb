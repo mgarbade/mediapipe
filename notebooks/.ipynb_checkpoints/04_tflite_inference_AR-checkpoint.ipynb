{
 "cells": [
  {
   "cell_type": "code",
   "execution_count": 2,
   "id": "9da74e17",
   "metadata": {},
   "outputs": [],
   "source": [
    "import tensorflow as tf\n",
    "import numpy as np\n",
    "import pickle\n"
   ]
  },
  {
   "cell_type": "markdown",
   "id": "a4b8d6ae",
   "metadata": {},
   "source": [
    "# Import squat example input"
   ]
  },
  {
   "cell_type": "code",
   "execution_count": 118,
   "id": "7d5433c0",
   "metadata": {},
   "outputs": [],
   "source": [
    "filename = \"/home/garbade/libs/aisc/action-recognition/demos/skeletons_as_numpy.npy\"\n",
    "filename_neg = \"/home/garbade/libs/aisc/action-recognition/demos/skeletons_as_numpy_negative.npy\""
   ]
  },
  {
   "cell_type": "code",
   "execution_count": 121,
   "id": "321f4a05",
   "metadata": {},
   "outputs": [],
   "source": [
    "data = np.load(filename)\n",
    "data_neg = np.load(filename_neg)"
   ]
  },
  {
   "cell_type": "code",
   "execution_count": 122,
   "id": "9225955c",
   "metadata": {},
   "outputs": [
    {
     "name": "stdout",
     "output_type": "stream",
     "text": [
      "(1030, 17, 3)\n",
      "(33874, 17, 3)\n"
     ]
    }
   ],
   "source": [
    "print(data.shape)\n",
    "print(data_neg.shape)"
   ]
  },
  {
   "cell_type": "markdown",
   "id": "c3faa9f2",
   "metadata": {},
   "source": [
    "## Add neck joint"
   ]
  },
  {
   "cell_type": "code",
   "execution_count": 126,
   "id": "8053cb16",
   "metadata": {},
   "outputs": [],
   "source": [
    "native_keypoint_names: [\n",
    "            \"Nose\",\n",
    "            \"RightShoulder\",\n",
    "            \"RightElbow\",\n",
    "            \"RightWrist\",\n",
    "            \"LeftShoulder\",\n",
    "            \"LeftElbow\",\n",
    "            \"LeftWrist\",\n",
    "            \"RightHip\",\n",
    "            \"RightKnee\",\n",
    "            \"RightAnkle\",\n",
    "            \"LeftHip\",\n",
    "            \"LeftKnee\",\n",
    "            \"LeftAnkle\",\n",
    "            \"RightEye\",\n",
    "            \"LeftEye\",\n",
    "            \"RightEar\",\n",
    "            \"LeftEar\"]"
   ]
  },
  {
   "cell_type": "markdown",
   "id": "2efdc702",
   "metadata": {},
   "source": [
    "neck keypoint is missing -> should come second after \"Nose\""
   ]
  },
  {
   "cell_type": "code",
   "execution_count": 135,
   "id": "a2414abe",
   "metadata": {},
   "outputs": [],
   "source": [
    "def add_neck_to_keypoints(skeletons):\n",
    "    new_skeletons = []\n",
    "    for skeleton_frame in skeletons:\n",
    "        nose = skeleton_frame[:1,:]\n",
    "        neck = (skeleton_frame[1,:] + skeleton_frame[4,:]) / 2.0\n",
    "        rest = skeleton_frame[1:,:]\n",
    "        pose_concat = np.concatenate((nose, np.expand_dims(neck, 0), rest), axis=0)\n",
    "        new_skeletons.append(pose_concat)\n",
    "    return np.array(new_skeletons)\n"
   ]
  },
  {
   "cell_type": "code",
   "execution_count": 35,
   "id": "aa3e8de1",
   "metadata": {},
   "outputs": [
    {
     "data": {
      "text/plain": [
       "(1, 2)"
      ]
     },
     "execution_count": 35,
     "metadata": {},
     "output_type": "execute_result"
    }
   ],
   "source": [
    "nose.shape"
   ]
  },
  {
   "cell_type": "code",
   "execution_count": 36,
   "id": "35c0a190",
   "metadata": {},
   "outputs": [
    {
     "data": {
      "text/plain": [
       "(2,)"
      ]
     },
     "execution_count": 36,
     "metadata": {},
     "output_type": "execute_result"
    }
   ],
   "source": [
    "neck.shape"
   ]
  },
  {
   "cell_type": "code",
   "execution_count": 37,
   "id": "eec84683",
   "metadata": {},
   "outputs": [
    {
     "data": {
      "text/plain": [
       "(16, 2)"
      ]
     },
     "execution_count": 37,
     "metadata": {},
     "output_type": "execute_result"
    }
   ],
   "source": [
    "rest.shape"
   ]
  },
  {
   "cell_type": "code",
   "execution_count": 136,
   "id": "c62d5494",
   "metadata": {},
   "outputs": [],
   "source": [
    "skeletons_corr = add_neck_to_keypoints(data)\n",
    "skeletons_corr_neg = add_neck_to_keypoints(data_neg)"
   ]
  },
  {
   "cell_type": "code",
   "execution_count": 137,
   "id": "8f31dc1e",
   "metadata": {},
   "outputs": [
    {
     "name": "stdout",
     "output_type": "stream",
     "text": [
      "(1030, 18, 3)\n",
      "(33874, 18, 3)\n"
     ]
    }
   ],
   "source": [
    "print(skeletons_corr.shape)\n",
    "print(skeletons_corr_neg.shape)"
   ]
  },
  {
   "cell_type": "markdown",
   "id": "b23b213d",
   "metadata": {},
   "source": [
    "# Create single NN input"
   ]
  },
  {
   "cell_type": "code",
   "execution_count": 141,
   "id": "fff2f299",
   "metadata": {},
   "outputs": [],
   "source": [
    "single_nn_input = skeletons_corr[:79,:,:2]"
   ]
  },
  {
   "cell_type": "code",
   "execution_count": 142,
   "id": "39b1eca5",
   "metadata": {},
   "outputs": [
    {
     "name": "stdout",
     "output_type": "stream",
     "text": [
      "(79, 18, 2)\n"
     ]
    }
   ],
   "source": [
    "print(single_nn_input.shape)"
   ]
  },
  {
   "cell_type": "markdown",
   "id": "efe3a30d",
   "metadata": {},
   "source": [
    "# Load tflite AR model"
   ]
  },
  {
   "cell_type": "code",
   "execution_count": 26,
   "id": "25dc72d8",
   "metadata": {},
   "outputs": [],
   "source": [
    "model_file = \"/media/data_ssd/libs/mediapipe_v0.8.9/mediapipe/models/model_ar_v18s_01_mediapipe_tflite.tflite\"\n",
    "interpreter = tf.lite.Interpreter(model_path=model_file)\n",
    "interpreter.allocate_tensors()\n",
    "\n",
    "# Get input and output tensors.\n",
    "input_details = interpreter.get_input_details()\n",
    "output_details = interpreter.get_output_details()"
   ]
  },
  {
   "cell_type": "code",
   "execution_count": 28,
   "id": "ed5acc85",
   "metadata": {},
   "outputs": [
    {
     "name": "stdout",
     "output_type": "stream",
     "text": [
      "[{'name': 'input_2', 'index': 0, 'shape': array([ 1, 79, 18,  2], dtype=int32), 'shape_signature': array([ 1, 79, 18,  2], dtype=int32), 'dtype': <class 'numpy.float32'>, 'quantization': (0.0, 0), 'quantization_parameters': {'scales': array([], dtype=float32), 'zero_points': array([], dtype=int32), 'quantized_dimension': 0}, 'sparsity_parameters': {}}]\n",
      "[{'name': 'Identity', 'index': 192, 'shape': array([ 1, 23], dtype=int32), 'shape_signature': array([ 1, 23], dtype=int32), 'dtype': <class 'numpy.float32'>, 'quantization': (0.0, 0), 'quantization_parameters': {'scales': array([], dtype=float32), 'zero_points': array([], dtype=int32), 'quantized_dimension': 0}, 'sparsity_parameters': {}}]\n"
     ]
    }
   ],
   "source": [
    "print(input_details)\n",
    "print(output_details)"
   ]
  },
  {
   "cell_type": "markdown",
   "id": "b118a0e7",
   "metadata": {},
   "source": [
    "# Run inference"
   ]
  },
  {
   "cell_type": "code",
   "execution_count": 55,
   "id": "517e5aa4",
   "metadata": {},
   "outputs": [],
   "source": [
    "np.save(\"skeletons_with_neck_squat_79x18x2.npy\", skeletons_corr)"
   ]
  },
  {
   "cell_type": "code",
   "execution_count": 43,
   "id": "b9d91571",
   "metadata": {},
   "outputs": [],
   "source": [
    "input_data = single_nn_input\n",
    "\n",
    "input_tensor = np.expand_dims(input_data.astype(np.float32), axis=0)\n",
    "interpreter.set_tensor(input_details[0]['index'], input_tensor)\n",
    "interpreter.invoke()\n",
    "output_data = interpreter.get_tensor(output_details[0]['index'])\n",
    "\n",
    "output_data = np.squeeze(output_data)\n",
    "\n",
    "\n"
   ]
  },
  {
   "cell_type": "code",
   "execution_count": 44,
   "id": "ae8aac29",
   "metadata": {},
   "outputs": [
    {
     "data": {
      "text/plain": [
       "array([-1.3521575e+01, -2.4610739e+01, -2.1907761e+01, -1.8666994e+01,\n",
       "       -1.3113013e-06, -2.0498335e+01, -2.2552057e+01, -2.0804609e+01,\n",
       "       -2.5740786e+01, -2.5391951e+01, -2.0525833e+01, -2.2698870e+01,\n",
       "       -2.4558897e+01, -2.0615149e+01, -2.3449255e+01, -1.8619581e+01,\n",
       "       -1.9773645e+01, -2.2957602e+01, -1.8723085e+01, -1.7083897e+01,\n",
       "       -2.3289736e+01, -2.1011726e+01, -2.7642921e+01], dtype=float32)"
      ]
     },
     "execution_count": 44,
     "metadata": {},
     "output_type": "execute_result"
    }
   ],
   "source": [
    "output_data"
   ]
  },
  {
   "cell_type": "code",
   "execution_count": 46,
   "id": "c6dfb19f",
   "metadata": {},
   "outputs": [
    {
     "data": {
      "text/plain": [
       "(23,)"
      ]
     },
     "execution_count": 46,
     "metadata": {},
     "output_type": "execute_result"
    }
   ],
   "source": [
    "output_data.shape"
   ]
  },
  {
   "cell_type": "code",
   "execution_count": 47,
   "id": "5f778ba1",
   "metadata": {},
   "outputs": [
    {
     "data": {
      "text/plain": [
       "4"
      ]
     },
     "execution_count": 47,
     "metadata": {},
     "output_type": "execute_result"
    }
   ],
   "source": [
    "output_data.argmax(axis=0)"
   ]
  },
  {
   "cell_type": "markdown",
   "id": "89597050",
   "metadata": {},
   "source": [
    "# Get action class corresponding to prediction"
   ]
  },
  {
   "cell_type": "code",
   "execution_count": 49,
   "id": "5ee16b9b",
   "metadata": {},
   "outputs": [],
   "source": [
    "action_classes = [\n",
    "        \"background\",\n",
    "        \"box\",\n",
    "        \"clap\",\n",
    "        \"jump\",\n",
    "        \"squat\",\n",
    "        \"wave\",\n",
    "        \"rotate\",\n",
    "        \"climb\",\n",
    "        \"run_on_spot\",\n",
    "        \"rope_jump\",\n",
    "        \"fly-like-bird\",\n",
    "        \"jumping-jack\",\n",
    "        \"holahoop\",\n",
    "        \"look-out\",\n",
    "        \"eat-something\",\n",
    "        \"jump-like-frog\",\n",
    "        \"bang-with-hammer\",\n",
    "        \"boxes-from-left-to-right\",\n",
    "        \"cook\",\n",
    "        \"horse-petting\",\n",
    "        \"throw-stone\",\n",
    "        \"pull-rope\",\n",
    "        \"lift-bucket-from-floor\"\n",
    "    ]"
   ]
  },
  {
   "cell_type": "code",
   "execution_count": 51,
   "id": "00b1a1ae",
   "metadata": {},
   "outputs": [
    {
     "name": "stdout",
     "output_type": "stream",
     "text": [
      "predicted class: squat\n"
     ]
    }
   ],
   "source": [
    "action_id = output_data.argmax(axis=0)\n",
    "\n",
    "print(\"predicted class: \" + action_classes[action_id])"
   ]
  },
  {
   "cell_type": "code",
   "execution_count": 52,
   "id": "0c875fbb",
   "metadata": {},
   "outputs": [
    {
     "name": "stdout",
     "output_type": "stream",
     "text": [
      "score: -1.3113013e-06\n"
     ]
    }
   ],
   "source": [
    "print(\"score: \" + str(output_data[action_id]))"
   ]
  },
  {
   "cell_type": "code",
   "execution_count": 53,
   "id": "5b91bb58",
   "metadata": {},
   "outputs": [],
   "source": [
    "def softmax(x):\n",
    "    \"\"\"Compute softmax values for each sets of scores in x.\"\"\"\n",
    "    e_x = np.exp(x - np.max(x))\n",
    "    return e_x / e_x.sum(axis=0) # only difference"
   ]
  },
  {
   "cell_type": "code",
   "execution_count": 54,
   "id": "74b68c07",
   "metadata": {},
   "outputs": [
    {
     "data": {
      "text/plain": [
       "array([1.34169704e-06, 2.04970936e-11, 3.05900888e-10, 7.81677745e-09,\n",
       "       9.99998689e-01, 1.25223698e-09, 1.60607652e-10, 9.21877519e-10,\n",
       "       6.62093167e-12, 9.38461028e-12, 1.21827193e-09, 1.38677625e-10,\n",
       "       2.15877212e-11, 1.11417908e-09, 6.54814397e-11, 8.19631918e-09,\n",
       "       2.58472999e-09, 1.07063296e-10, 7.39039363e-09, 3.80678387e-08,\n",
       "       7.68062350e-11, 7.49416751e-10, 9.88170808e-13], dtype=float32)"
      ]
     },
     "execution_count": 54,
     "metadata": {},
     "output_type": "execute_result"
    }
   ],
   "source": [
    "softmax(output_data)"
   ]
  },
  {
   "cell_type": "code",
   "execution_count": 58,
   "id": "4d9d4360",
   "metadata": {},
   "outputs": [
    {
     "name": "stdout",
     "output_type": "stream",
     "text": [
      "softmax score: 0.9999987\n"
     ]
    }
   ],
   "source": [
    "print(\"softmax score: \" + str(softmax(output_data)[action_id]))"
   ]
  },
  {
   "cell_type": "markdown",
   "id": "1bfef9a8",
   "metadata": {},
   "source": [
    "# Write example input to C++ readable file"
   ]
  },
  {
   "cell_type": "code",
   "execution_count": 60,
   "id": "984dd07b",
   "metadata": {},
   "outputs": [],
   "source": [
    "import cv2 as cv"
   ]
  },
  {
   "cell_type": "code",
   "execution_count": 73,
   "id": "1d863bcf",
   "metadata": {},
   "outputs": [],
   "source": [
    "input_data_2D = input_data.reshape((79,-1))"
   ]
  },
  {
   "cell_type": "code",
   "execution_count": 69,
   "id": "89d5383d",
   "metadata": {},
   "outputs": [
    {
     "data": {
      "text/plain": [
       "array([[103.84735 , 151.06212 ],\n",
       "       [ 97.68504 , 168.07446 ],\n",
       "       [ 81.665085, 168.16046 ],\n",
       "       [ 68.523674, 188.66692 ],\n",
       "       [ 74.398506, 201.2924  ],\n",
       "       [113.704994, 167.98846 ],\n",
       "       [123.47378 , 186.26178 ],\n",
       "       [133.21793 , 200.10634 ],\n",
       "       [ 84.70395 , 220.2473  ],\n",
       "       [ 86.980034, 255.46948 ],\n",
       "       [ 85.59968 , 294.20245 ],\n",
       "       [105.12618 , 221.32732 ],\n",
       "       [106.3571  , 257.34686 ],\n",
       "       [104.31472 , 292.23346 ],\n",
       "       [100.299774, 147.1401  ],\n",
       "       [105.78834 , 147.37265 ],\n",
       "       [ 94.929276, 148.57346 ],\n",
       "       [105.97988 , 148.91405 ]], dtype=float32)"
      ]
     },
     "execution_count": 69,
     "metadata": {},
     "output_type": "execute_result"
    }
   ],
   "source": [
    "input_data[0]"
   ]
  },
  {
   "cell_type": "code",
   "execution_count": 75,
   "id": "0de9c98f",
   "metadata": {},
   "outputs": [
    {
     "data": {
      "text/plain": [
       "array([103.84735 , 151.06212 ,  97.68504 , 168.07446 ,  81.665085,\n",
       "       168.16046 ,  68.523674, 188.66692 ,  74.398506, 201.2924  ,\n",
       "       113.704994, 167.98846 , 123.47378 , 186.26178 , 133.21793 ,\n",
       "       200.10634 ,  84.70395 , 220.2473  ,  86.980034, 255.46948 ,\n",
       "        85.59968 , 294.20245 , 105.12618 , 221.32732 , 106.3571  ,\n",
       "       257.34686 , 104.31472 , 292.23346 , 100.299774, 147.1401  ,\n",
       "       105.78834 , 147.37265 ,  94.929276, 148.57346 , 105.97988 ,\n",
       "       148.91405 ], dtype=float32)"
      ]
     },
     "execution_count": 75,
     "metadata": {},
     "output_type": "execute_result"
    }
   ],
   "source": [
    "input_data_2D[0]"
   ]
  },
  {
   "cell_type": "code",
   "execution_count": 97,
   "id": "035e6999",
   "metadata": {},
   "outputs": [],
   "source": [
    "np.savetxt(\"skeletons_with_neck_squat_79x36.mat\", input_data_2D, delimiter=\" \")"
   ]
  },
  {
   "cell_type": "code",
   "execution_count": 88,
   "id": "d7eeae74",
   "metadata": {},
   "outputs": [],
   "source": [
    "nrows, ncols, nchannels = input_data.shape"
   ]
  },
  {
   "cell_type": "code",
   "execution_count": 91,
   "id": "09e6a19e",
   "metadata": {},
   "outputs": [],
   "source": [
    "for row in range(nrows):\n",
    "    for channel in range(nchannels):\n",
    "        for col in range(ncols):\n",
    "            input_data[row, col, channel]\n"
   ]
  },
  {
   "cell_type": "code",
   "execution_count": 102,
   "id": "00b4e3bb",
   "metadata": {},
   "outputs": [],
   "source": [
    "def write_matrix3D_to_ascii(filename, matrix3D):\n",
    "    \n",
    "    nrows, ncols, nchannels = input_data.shape\n",
    "    \n",
    "    with open(filename, \"w\") as file:\n",
    "        \n",
    "        # write header [rows x cols x channels]\n",
    "        nrows, ncols, nchannels = matrix3D.shape\n",
    "        file.write(f\"{nrows} {ncols} {nchannels}\")\n",
    "        file.write(\"\\n\")\n",
    "        \n",
    "        # write values \n",
    "        for row in range(nrows):\n",
    "            for channel in range(nchannels):\n",
    "                for col in range(ncols):\n",
    "                    value = matrix3D[row, col, channel]\n",
    "                    \n",
    "                    file.write(str(value))\n",
    "                    file.write(\" \")\n",
    "            file.write(\"\\n\")\n"
   ]
  },
  {
   "cell_type": "code",
   "execution_count": 110,
   "id": "1f25eaf6",
   "metadata": {},
   "outputs": [],
   "source": [
    "def write_matrix2D_to_ascii(filename, matrix2D):\n",
    "    \n",
    "    nrows, ncols = matrix2D.shape\n",
    "    \n",
    "    with open(filename, \"w\") as file:\n",
    "        \n",
    "        # write header [rows x cols]\n",
    "        nrows, ncols = matrix2D.shape\n",
    "        file.write(f\"{nrows} {ncols}\")\n",
    "        file.write(\"\\n\")\n",
    "        \n",
    "        # write values \n",
    "        for row in range(nrows):\n",
    "            for col in range(ncols):\n",
    "                value = matrix2D[row, col]\n",
    "\n",
    "                file.write(str(value))\n",
    "                file.write(\" \")\n",
    "            file.write(\"\\n\")\n"
   ]
  },
  {
   "cell_type": "code",
   "execution_count": 94,
   "id": "7daec8ab",
   "metadata": {},
   "outputs": [
    {
     "name": "stdout",
     "output_type": "stream",
     "text": [
      "103.84735\n",
      "97.68504\n",
      "81.665085\n",
      "68.523674\n",
      "74.398506\n",
      "113.704994\n",
      "123.47378\n",
      "133.21793\n",
      "84.70395\n",
      "86.980034\n",
      "85.59968\n",
      "105.12618\n",
      "106.3571\n",
      "104.31472\n",
      "100.299774\n",
      "105.78834\n",
      "94.929276\n",
      "105.97988\n",
      "151.06212\n",
      "168.07446\n",
      "168.16046\n",
      "188.66692\n",
      "201.2924\n",
      "167.98846\n",
      "186.26178\n",
      "200.10634\n",
      "220.2473\n",
      "255.46948\n",
      "294.20245\n",
      "221.32732\n",
      "257.34686\n",
      "292.23346\n",
      "147.1401\n",
      "147.37265\n",
      "148.57346\n",
      "148.91405\n"
     ]
    }
   ],
   "source": [
    "for channel in range(nchannels):\n",
    "    for col in range(ncols):\n",
    "        print(input_data[0, col, channel])"
   ]
  },
  {
   "cell_type": "code",
   "execution_count": 90,
   "id": "14be5806",
   "metadata": {},
   "outputs": [
    {
     "name": "stdout",
     "output_type": "stream",
     "text": [
      "78\n",
      "1\n",
      "17\n"
     ]
    }
   ],
   "source": [
    "print(row)\n",
    "print(channel)\n",
    "print(col)"
   ]
  },
  {
   "cell_type": "code",
   "execution_count": 79,
   "id": "80f380b1",
   "metadata": {},
   "outputs": [
    {
     "data": {
      "text/plain": [
       "(18, 2)"
      ]
     },
     "execution_count": 79,
     "metadata": {},
     "output_type": "execute_result"
    }
   ],
   "source": [
    "row.shape"
   ]
  },
  {
   "cell_type": "code",
   "execution_count": 81,
   "id": "3fa34455",
   "metadata": {},
   "outputs": [
    {
     "data": {
      "text/plain": [
       "(2,)"
      ]
     },
     "execution_count": 81,
     "metadata": {},
     "output_type": "execute_result"
    }
   ],
   "source": [
    "kpt.shape"
   ]
  },
  {
   "cell_type": "code",
   "execution_count": 103,
   "id": "b1dc0aa5",
   "metadata": {},
   "outputs": [],
   "source": [
    "write_matrix3D_to_ascii(\"skeletons_with_neck_squat_79x18x2.mat\", input_data)"
   ]
  },
  {
   "cell_type": "code",
   "execution_count": 111,
   "id": "312bf95a",
   "metadata": {},
   "outputs": [],
   "source": [
    "write_matrix2D_to_ascii(\"skeletons_with_neck_squat_79x36.mat\", input_data_2D)"
   ]
  },
  {
   "cell_type": "code",
   "execution_count": 112,
   "id": "bfe01103",
   "metadata": {},
   "outputs": [
    {
     "name": "stdout",
     "output_type": "stream",
     "text": [
      "/media/data_ssd/libs/mediapipe_v0.8.9/notebooks\r\n"
     ]
    }
   ],
   "source": [
    "!pwd"
   ]
  },
  {
   "cell_type": "markdown",
   "id": "7ab0fd94",
   "metadata": {},
   "source": [
    "# Compute class for C++ output prediction"
   ]
  },
  {
   "cell_type": "code",
   "execution_count": 113,
   "id": "23ecf2f4",
   "metadata": {},
   "outputs": [],
   "source": [
    "predictions_cpp = np.array([\n",
    "-0.414527, \n",
    "-3.72665, \n",
    "-6.21815, \n",
    "-6.29307, \n",
    "-4.09375, \n",
    "-4.19713, \n",
    "-6.88958, \n",
    "-6.72822, \n",
    "-6.16086, \n",
    "-7.08454, \n",
    "-8.50217, \n",
    "-8.53692, \n",
    "-9.018, \n",
    "-4.46563, \n",
    "-6.14306, \n",
    "-2.60321, \n",
    "-3.2298, \n",
    "-2.87857, \n",
    "-7.73492, \n",
    "-7.26222, \n",
    "-6.36653, \n",
    "-5.81333, \n",
    "-2.46831, \n",
    "])"
   ]
  },
  {
   "cell_type": "code",
   "execution_count": 114,
   "id": "c80478fd",
   "metadata": {},
   "outputs": [
    {
     "data": {
      "text/plain": [
       "array([6.60651899e-01, 2.40733176e-02, 1.99292632e-03, 1.84907234e-03,\n",
       "       1.66765589e-02, 1.50386578e-02, 1.01834023e-03, 1.19665968e-03,\n",
       "       2.11043497e-03, 8.37959150e-04, 2.03027076e-04, 1.96093062e-04,\n",
       "       1.21208154e-04, 1.14974362e-02, 2.14833704e-03, 7.40354530e-02,\n",
       "       3.95653634e-02, 5.62150252e-02, 4.37286835e-04, 7.01548021e-04,\n",
       "       1.71810867e-03, 2.98746163e-03, 8.47278261e-02])"
      ]
     },
     "execution_count": 114,
     "metadata": {},
     "output_type": "execute_result"
    }
   ],
   "source": [
    "softmax(predictions_cpp)"
   ]
  },
  {
   "cell_type": "code",
   "execution_count": 115,
   "id": "b225dcdc",
   "metadata": {},
   "outputs": [],
   "source": [
    "action_id = softmax(predictions_cpp).argmax(axis=0)"
   ]
  },
  {
   "cell_type": "code",
   "execution_count": 116,
   "id": "12e06ef1",
   "metadata": {},
   "outputs": [
    {
     "name": "stdout",
     "output_type": "stream",
     "text": [
      "predicted class: background\n"
     ]
    }
   ],
   "source": [
    "print(\"predicted class: \" + action_classes[action_id])"
   ]
  },
  {
   "cell_type": "markdown",
   "id": "4425d019",
   "metadata": {},
   "source": [
    "# Create train dataset"
   ]
  },
  {
   "cell_type": "code",
   "execution_count": 143,
   "id": "08572e53",
   "metadata": {},
   "outputs": [
    {
     "name": "stdout",
     "output_type": "stream",
     "text": [
      "(1030, 18, 3)\n",
      "(33874, 18, 3)\n"
     ]
    }
   ],
   "source": [
    "print(skeletons_corr.shape)\n",
    "print(skeletons_corr_neg.shape)"
   ]
  },
  {
   "cell_type": "markdown",
   "id": "d36bbdb8",
   "metadata": {},
   "source": [
    "remove third dimension (score)"
   ]
  },
  {
   "cell_type": "code",
   "execution_count": 144,
   "id": "19b88549",
   "metadata": {},
   "outputs": [],
   "source": [
    "train_pos = skeletons_corr[:,:,:2]\n",
    "train_neg = skeletons_corr_neg[:,:,:2]"
   ]
  },
  {
   "cell_type": "markdown",
   "id": "d94206a7",
   "metadata": {},
   "source": [
    "combine last two dimensions"
   ]
  },
  {
   "cell_type": "code",
   "execution_count": 161,
   "id": "bfab9181",
   "metadata": {},
   "outputs": [],
   "source": [
    "train_pos = train_pos.reshape(train_pos.shape[0], -1)\n",
    "train_neg = train_neg.reshape(train_neg.shape[0], -1)"
   ]
  },
  {
   "cell_type": "code",
   "execution_count": 162,
   "id": "23477577",
   "metadata": {},
   "outputs": [
    {
     "name": "stdout",
     "output_type": "stream",
     "text": [
      "(1030, 36)\n",
      "(33874, 36)\n"
     ]
    }
   ],
   "source": [
    "print(train_pos.shape)\n",
    "print(train_neg.shape)"
   ]
  },
  {
   "cell_type": "code",
   "execution_count": 172,
   "id": "9e11dca8",
   "metadata": {},
   "outputs": [],
   "source": [
    "def create_multiple_samples(skeletons, frames_per_sample):\n",
    "    pos_samples = []\n",
    "    for i in range(skeletons.shape[0] - frames_per_sample):\n",
    "        pos_samples.append(skeletons[i: i + frames_per_sample, :])\n",
    "\n",
    "    return np.array(pos_samples)"
   ]
  },
  {
   "cell_type": "code",
   "execution_count": 167,
   "id": "d17f6b48",
   "metadata": {},
   "outputs": [
    {
     "data": {
      "text/plain": [
       "950"
      ]
     },
     "execution_count": 167,
     "metadata": {},
     "output_type": "execute_result"
    }
   ],
   "source": [
    "i"
   ]
  },
  {
   "cell_type": "code",
   "execution_count": 168,
   "id": "f8719659",
   "metadata": {},
   "outputs": [
    {
     "data": {
      "text/plain": [
       "(79, 36)"
      ]
     },
     "execution_count": 168,
     "metadata": {},
     "output_type": "execute_result"
    }
   ],
   "source": [
    "train_pos[i:i+79,:].shape"
   ]
  },
  {
   "cell_type": "code",
   "execution_count": 173,
   "id": "b4e07db6",
   "metadata": {},
   "outputs": [],
   "source": [
    "data_train_pos = create_multiple_samples(train_pos, frames_per_sample=79)\n",
    "data_train_neg = create_multiple_samples(train_neg, frames_per_sample=79)"
   ]
  },
  {
   "cell_type": "code",
   "execution_count": 177,
   "id": "acec835b",
   "metadata": {},
   "outputs": [
    {
     "name": "stdout",
     "output_type": "stream",
     "text": [
      "(951, 79, 36)\n",
      "(33795, 79, 36)\n"
     ]
    }
   ],
   "source": [
    "print(data_train_pos.shape)\n",
    "print(data_train_neg.shape)"
   ]
  },
  {
   "cell_type": "code",
   "execution_count": 179,
   "id": "a34fbab9",
   "metadata": {},
   "outputs": [],
   "source": [
    "x_train = np.concatenate((data_train_pos, data_train_neg), axis=0)"
   ]
  },
  {
   "cell_type": "code",
   "execution_count": 180,
   "id": "d898654d",
   "metadata": {},
   "outputs": [
    {
     "data": {
      "text/plain": [
       "(34746, 79, 36)"
      ]
     },
     "execution_count": 180,
     "metadata": {},
     "output_type": "execute_result"
    }
   ],
   "source": [
    "x_train.shape"
   ]
  },
  {
   "cell_type": "code",
   "execution_count": 184,
   "id": "61ecbe61",
   "metadata": {},
   "outputs": [],
   "source": [
    "y_pos = np.zeros_like(np.squeeze(data_train_pos[:,0,0]))\n",
    "y_neg = np.ones_like(np.squeeze(data_train_neg[:,0,0]))\n",
    "y_train = np.concatenate((y_pos, y_neg), axis=0)"
   ]
  },
  {
   "cell_type": "code",
   "execution_count": 185,
   "id": "6f954d43",
   "metadata": {},
   "outputs": [
    {
     "data": {
      "text/plain": [
       "array([0., 1.], dtype=float32)"
      ]
     },
     "execution_count": 185,
     "metadata": {},
     "output_type": "execute_result"
    }
   ],
   "source": [
    "np.unique(y_train)"
   ]
  },
  {
   "cell_type": "code",
   "execution_count": 186,
   "id": "74cfad51",
   "metadata": {},
   "outputs": [
    {
     "name": "stdout",
     "output_type": "stream",
     "text": [
      "(34746,)\n"
     ]
    }
   ],
   "source": [
    "print(y_train.shape)"
   ]
  },
  {
   "cell_type": "markdown",
   "id": "93844045",
   "metadata": {},
   "source": [
    "# Train simple AR model"
   ]
  },
  {
   "cell_type": "markdown",
   "id": "b4c225d3",
   "metadata": {},
   "source": [
    "simple dense model"
   ]
  },
  {
   "cell_type": "code",
   "execution_count": 208,
   "id": "b77372d8",
   "metadata": {},
   "outputs": [],
   "source": [
    "model = tf.keras.models.Sequential([\n",
    "    tf.keras.layers.Flatten(input_shape=(79, 36)),\n",
    "    tf.keras.layers.Dense(128, activation=\"relu\"),\n",
    "    tf.keras.layers.Dropout(0.2),\n",
    "    tf.keras.layers.Dense(2)\n",
    "])"
   ]
  },
  {
   "cell_type": "code",
   "execution_count": 213,
   "id": "76d8c4f8",
   "metadata": {},
   "outputs": [],
   "source": [
    "loss_fn = tf.keras.losses.SparseCategoricalCrossentropy(from_logits=True)"
   ]
  },
  {
   "cell_type": "markdown",
   "id": "bec6d8a2",
   "metadata": {},
   "source": [
    "conv 1d model"
   ]
  },
  {
   "cell_type": "code",
   "execution_count": 212,
   "id": "1e6fc2de",
   "metadata": {},
   "outputs": [],
   "source": [
    "model = tf.keras.models.Sequential([\n",
    "    tf.keras.layers.Conv1D(filters=32, kernel_size=3, padding=\"valid\"),\n",
    "    tf.keras.layers.Dropout(0.2),\n",
    "    tf.keras.layers.Dense(2)\n",
    "])"
   ]
  },
  {
   "cell_type": "code",
   "execution_count": 237,
   "id": "665ed63c",
   "metadata": {},
   "outputs": [],
   "source": [
    "model.compile(optimizer='adam',\n",
    "             loss=loss_fn,\n",
    "             metrics=['accuracy'])"
   ]
  },
  {
   "cell_type": "markdown",
   "id": "c2f2dc67",
   "metadata": {},
   "source": [
    "conv 1d model - second try"
   ]
  },
  {
   "cell_type": "code",
   "execution_count": 238,
   "id": "c786e10a",
   "metadata": {},
   "outputs": [],
   "source": [
    "from tensorflow.keras.layers import *\n",
    "from tensorflow.keras.models import Sequential"
   ]
  },
  {
   "cell_type": "code",
   "execution_count": 256,
   "id": "15368160",
   "metadata": {},
   "outputs": [],
   "source": [
    "n_timesteps, n_features = (79, 36)\n",
    "n_outputs = 2"
   ]
  },
  {
   "cell_type": "code",
   "execution_count": 294,
   "id": "acf60240",
   "metadata": {},
   "outputs": [],
   "source": [
    "model = Sequential()\n",
    "model.add(Conv1D(filters=64, kernel_size=3, activation='relu', input_shape=(n_timesteps,n_features)))\n",
    "model.add(Conv1D(filters=64, kernel_size=3, activation='relu'))\n",
    "model.add(Dropout(0.5))\n",
    "model.add(MaxPooling1D(pool_size=2))\n",
    "model.add(Flatten())\n",
    "model.add(Dense(100, activation='relu'))\n",
    "model.add(Dense(n_outputs, activation='sigmoid'))\n",
    "model.compile(loss='sparse_categorical_crossentropy', optimizer='adam', metrics=['accuracy'])"
   ]
  },
  {
   "cell_type": "code",
   "execution_count": 295,
   "id": "a7dfe1e0",
   "metadata": {},
   "outputs": [
    {
     "data": {
      "text/plain": [
       "(34746, 1)"
      ]
     },
     "execution_count": 295,
     "metadata": {},
     "output_type": "execute_result"
    }
   ],
   "source": [
    "np.expand_dims(y_train, axis=1).shape"
   ]
  },
  {
   "cell_type": "code",
   "execution_count": 296,
   "id": "cadce7e6",
   "metadata": {},
   "outputs": [
    {
     "name": "stdout",
     "output_type": "stream",
     "text": [
      "Model: \"sequential_29\"\n",
      "_________________________________________________________________\n",
      "Layer (type)                 Output Shape              Param #   \n",
      "=================================================================\n",
      "conv1d_26 (Conv1D)           (None, 77, 64)            6976      \n",
      "_________________________________________________________________\n",
      "conv1d_27 (Conv1D)           (None, 75, 64)            12352     \n",
      "_________________________________________________________________\n",
      "conv1d_28 (Conv1D)           (None, 73, 64)            12352     \n",
      "_________________________________________________________________\n",
      "conv1d_29 (Conv1D)           (None, 71, 64)            12352     \n",
      "_________________________________________________________________\n",
      "conv1d_30 (Conv1D)           (None, 69, 64)            12352     \n",
      "_________________________________________________________________\n",
      "dropout_19 (Dropout)         (None, 69, 64)            0         \n",
      "_________________________________________________________________\n",
      "max_pooling1d_11 (MaxPooling (None, 34, 64)            0         \n",
      "_________________________________________________________________\n",
      "flatten_17 (Flatten)         (None, 2176)              0         \n",
      "_________________________________________________________________\n",
      "dense_35 (Dense)             (None, 100)               217700    \n",
      "_________________________________________________________________\n",
      "dense_36 (Dense)             (None, 2)                 202       \n",
      "=================================================================\n",
      "Total params: 274,286\n",
      "Trainable params: 274,286\n",
      "Non-trainable params: 0\n",
      "_________________________________________________________________\n"
     ]
    }
   ],
   "source": [
    "model.summary()"
   ]
  },
  {
   "cell_type": "code",
   "execution_count": 304,
   "id": "f46b7d72",
   "metadata": {},
   "outputs": [],
   "source": [
    "class_weight = {0: 30.,\n",
    "                1: 1.}"
   ]
  },
  {
   "cell_type": "code",
   "execution_count": 305,
   "id": "f635418d",
   "metadata": {},
   "outputs": [
    {
     "name": "stdout",
     "output_type": "stream",
     "text": [
      "Epoch 1/50\n",
      "3475/3475 [==============================] - 10s 3ms/step - loss: 1.2394 - accuracy: 0.9725\n",
      "Epoch 2/50\n",
      "3475/3475 [==============================] - 11s 3ms/step - loss: 1.4476 - accuracy: 0.9726\n",
      "Epoch 3/50\n",
      "3475/3475 [==============================] - 11s 3ms/step - loss: 1.2378 - accuracy: 0.9726\n",
      "Epoch 4/50\n",
      "3475/3475 [==============================] - 11s 3ms/step - loss: 1.2376 - accuracy: 0.9726\n",
      "Epoch 5/50\n",
      "3475/3475 [==============================] - 10s 3ms/step - loss: 1.2377 - accuracy: 0.9726\n",
      "Epoch 6/50\n",
      "3475/3475 [==============================] - 10s 3ms/step - loss: 1.2809 - accuracy: 0.9726\n",
      "Epoch 7/50\n",
      "3475/3475 [==============================] - 10s 3ms/step - loss: 1.2370 - accuracy: 0.9726\n",
      "Epoch 8/50\n",
      "3475/3475 [==============================] - 10s 3ms/step - loss: 1.2377 - accuracy: 0.9726\n",
      "Epoch 9/50\n",
      "3475/3475 [==============================] - 10s 3ms/step - loss: 1.2387 - accuracy: 0.9726\n",
      "Epoch 10/50\n",
      "3475/3475 [==============================] - 11s 3ms/step - loss: 1.2380 - accuracy: 0.9726\n",
      "Epoch 11/50\n",
      "3475/3475 [==============================] - 11s 3ms/step - loss: 1.2373 - accuracy: 0.9726\n",
      "Epoch 12/50\n",
      "2145/3475 [=================>............] - ETA: 4s - loss: 1.2386 - accuracy: 0.9726"
     ]
    },
    {
     "ename": "KeyboardInterrupt",
     "evalue": "",
     "output_type": "error",
     "traceback": [
      "\u001b[0;31m---------------------------------------------------------------------------\u001b[0m",
      "\u001b[0;31mKeyboardInterrupt\u001b[0m                         Traceback (most recent call last)",
      "\u001b[0;32m<ipython-input-305-62d62ee12c2a>\u001b[0m in \u001b[0;36m<module>\u001b[0;34m\u001b[0m\n\u001b[0;32m----> 1\u001b[0;31m \u001b[0mmodel\u001b[0m\u001b[0;34m.\u001b[0m\u001b[0mfit\u001b[0m\u001b[0;34m(\u001b[0m\u001b[0mx_train\u001b[0m\u001b[0;34m,\u001b[0m \u001b[0my_train\u001b[0m\u001b[0;34m,\u001b[0m \u001b[0mbatch_size\u001b[0m \u001b[0;34m=\u001b[0m \u001b[0;36m10\u001b[0m\u001b[0;34m,\u001b[0m \u001b[0mepochs\u001b[0m\u001b[0;34m=\u001b[0m\u001b[0;36m50\u001b[0m\u001b[0;34m,\u001b[0m \u001b[0mclass_weight\u001b[0m\u001b[0;34m=\u001b[0m\u001b[0mclass_weight\u001b[0m\u001b[0;34m)\u001b[0m\u001b[0;34m\u001b[0m\u001b[0;34m\u001b[0m\u001b[0m\n\u001b[0m",
      "\u001b[0;32m~/.pyenv/versions/3.8.5/envs/py38_venv/lib/python3.8/site-packages/tensorflow/python/keras/engine/training.py\u001b[0m in \u001b[0;36mfit\u001b[0;34m(self, x, y, batch_size, epochs, verbose, callbacks, validation_split, validation_data, shuffle, class_weight, sample_weight, initial_epoch, steps_per_epoch, validation_steps, validation_batch_size, validation_freq, max_queue_size, workers, use_multiprocessing)\u001b[0m\n\u001b[1;32m   1186\u001b[0m               \u001b[0mlogs\u001b[0m \u001b[0;34m=\u001b[0m \u001b[0mtmp_logs\u001b[0m  \u001b[0;31m# No error, now safe to assign to logs.\u001b[0m\u001b[0;34m\u001b[0m\u001b[0;34m\u001b[0m\u001b[0m\n\u001b[1;32m   1187\u001b[0m               \u001b[0mend_step\u001b[0m \u001b[0;34m=\u001b[0m \u001b[0mstep\u001b[0m \u001b[0;34m+\u001b[0m \u001b[0mdata_handler\u001b[0m\u001b[0;34m.\u001b[0m\u001b[0mstep_increment\u001b[0m\u001b[0;34m\u001b[0m\u001b[0;34m\u001b[0m\u001b[0m\n\u001b[0;32m-> 1188\u001b[0;31m               \u001b[0mcallbacks\u001b[0m\u001b[0;34m.\u001b[0m\u001b[0mon_train_batch_end\u001b[0m\u001b[0;34m(\u001b[0m\u001b[0mend_step\u001b[0m\u001b[0;34m,\u001b[0m \u001b[0mlogs\u001b[0m\u001b[0;34m)\u001b[0m\u001b[0;34m\u001b[0m\u001b[0;34m\u001b[0m\u001b[0m\n\u001b[0m\u001b[1;32m   1189\u001b[0m               \u001b[0;32mif\u001b[0m \u001b[0mself\u001b[0m\u001b[0;34m.\u001b[0m\u001b[0mstop_training\u001b[0m\u001b[0;34m:\u001b[0m\u001b[0;34m\u001b[0m\u001b[0;34m\u001b[0m\u001b[0m\n\u001b[1;32m   1190\u001b[0m                 \u001b[0;32mbreak\u001b[0m\u001b[0;34m\u001b[0m\u001b[0;34m\u001b[0m\u001b[0m\n",
      "\u001b[0;32m~/.pyenv/versions/3.8.5/envs/py38_venv/lib/python3.8/site-packages/tensorflow/python/keras/callbacks.py\u001b[0m in \u001b[0;36mon_train_batch_end\u001b[0;34m(self, batch, logs)\u001b[0m\n\u001b[1;32m    455\u001b[0m     \"\"\"\n\u001b[1;32m    456\u001b[0m     \u001b[0;32mif\u001b[0m \u001b[0mself\u001b[0m\u001b[0;34m.\u001b[0m\u001b[0m_should_call_train_batch_hooks\u001b[0m\u001b[0;34m:\u001b[0m\u001b[0;34m\u001b[0m\u001b[0;34m\u001b[0m\u001b[0m\n\u001b[0;32m--> 457\u001b[0;31m       \u001b[0mself\u001b[0m\u001b[0;34m.\u001b[0m\u001b[0m_call_batch_hook\u001b[0m\u001b[0;34m(\u001b[0m\u001b[0mModeKeys\u001b[0m\u001b[0;34m.\u001b[0m\u001b[0mTRAIN\u001b[0m\u001b[0;34m,\u001b[0m \u001b[0;34m'end'\u001b[0m\u001b[0;34m,\u001b[0m \u001b[0mbatch\u001b[0m\u001b[0;34m,\u001b[0m \u001b[0mlogs\u001b[0m\u001b[0;34m=\u001b[0m\u001b[0mlogs\u001b[0m\u001b[0;34m)\u001b[0m\u001b[0;34m\u001b[0m\u001b[0;34m\u001b[0m\u001b[0m\n\u001b[0m\u001b[1;32m    458\u001b[0m \u001b[0;34m\u001b[0m\u001b[0m\n\u001b[1;32m    459\u001b[0m   \u001b[0;32mdef\u001b[0m \u001b[0mon_test_batch_begin\u001b[0m\u001b[0;34m(\u001b[0m\u001b[0mself\u001b[0m\u001b[0;34m,\u001b[0m \u001b[0mbatch\u001b[0m\u001b[0;34m,\u001b[0m \u001b[0mlogs\u001b[0m\u001b[0;34m=\u001b[0m\u001b[0;32mNone\u001b[0m\u001b[0;34m)\u001b[0m\u001b[0;34m:\u001b[0m\u001b[0;34m\u001b[0m\u001b[0;34m\u001b[0m\u001b[0m\n",
      "\u001b[0;32m~/.pyenv/versions/3.8.5/envs/py38_venv/lib/python3.8/site-packages/tensorflow/python/keras/callbacks.py\u001b[0m in \u001b[0;36m_call_batch_hook\u001b[0;34m(self, mode, hook, batch, logs)\u001b[0m\n\u001b[1;32m    315\u001b[0m       \u001b[0mself\u001b[0m\u001b[0;34m.\u001b[0m\u001b[0m_call_batch_begin_hook\u001b[0m\u001b[0;34m(\u001b[0m\u001b[0mmode\u001b[0m\u001b[0;34m,\u001b[0m \u001b[0mbatch\u001b[0m\u001b[0;34m,\u001b[0m \u001b[0mlogs\u001b[0m\u001b[0;34m)\u001b[0m\u001b[0;34m\u001b[0m\u001b[0;34m\u001b[0m\u001b[0m\n\u001b[1;32m    316\u001b[0m     \u001b[0;32melif\u001b[0m \u001b[0mhook\u001b[0m \u001b[0;34m==\u001b[0m \u001b[0;34m'end'\u001b[0m\u001b[0;34m:\u001b[0m\u001b[0;34m\u001b[0m\u001b[0;34m\u001b[0m\u001b[0m\n\u001b[0;32m--> 317\u001b[0;31m       \u001b[0mself\u001b[0m\u001b[0;34m.\u001b[0m\u001b[0m_call_batch_end_hook\u001b[0m\u001b[0;34m(\u001b[0m\u001b[0mmode\u001b[0m\u001b[0;34m,\u001b[0m \u001b[0mbatch\u001b[0m\u001b[0;34m,\u001b[0m \u001b[0mlogs\u001b[0m\u001b[0;34m)\u001b[0m\u001b[0;34m\u001b[0m\u001b[0;34m\u001b[0m\u001b[0m\n\u001b[0m\u001b[1;32m    318\u001b[0m     \u001b[0;32melse\u001b[0m\u001b[0;34m:\u001b[0m\u001b[0;34m\u001b[0m\u001b[0;34m\u001b[0m\u001b[0m\n\u001b[1;32m    319\u001b[0m       \u001b[0;32mraise\u001b[0m \u001b[0mValueError\u001b[0m\u001b[0;34m(\u001b[0m\u001b[0;34m'Unrecognized hook: {}'\u001b[0m\u001b[0;34m.\u001b[0m\u001b[0mformat\u001b[0m\u001b[0;34m(\u001b[0m\u001b[0mhook\u001b[0m\u001b[0;34m)\u001b[0m\u001b[0;34m)\u001b[0m\u001b[0;34m\u001b[0m\u001b[0;34m\u001b[0m\u001b[0m\n",
      "\u001b[0;32m~/.pyenv/versions/3.8.5/envs/py38_venv/lib/python3.8/site-packages/tensorflow/python/keras/callbacks.py\u001b[0m in \u001b[0;36m_call_batch_end_hook\u001b[0;34m(self, mode, batch, logs)\u001b[0m\n\u001b[1;32m    335\u001b[0m       \u001b[0mself\u001b[0m\u001b[0;34m.\u001b[0m\u001b[0m_batch_times\u001b[0m\u001b[0;34m.\u001b[0m\u001b[0mappend\u001b[0m\u001b[0;34m(\u001b[0m\u001b[0mbatch_time\u001b[0m\u001b[0;34m)\u001b[0m\u001b[0;34m\u001b[0m\u001b[0;34m\u001b[0m\u001b[0m\n\u001b[1;32m    336\u001b[0m \u001b[0;34m\u001b[0m\u001b[0m\n\u001b[0;32m--> 337\u001b[0;31m     \u001b[0mself\u001b[0m\u001b[0;34m.\u001b[0m\u001b[0m_call_batch_hook_helper\u001b[0m\u001b[0;34m(\u001b[0m\u001b[0mhook_name\u001b[0m\u001b[0;34m,\u001b[0m \u001b[0mbatch\u001b[0m\u001b[0;34m,\u001b[0m \u001b[0mlogs\u001b[0m\u001b[0;34m)\u001b[0m\u001b[0;34m\u001b[0m\u001b[0;34m\u001b[0m\u001b[0m\n\u001b[0m\u001b[1;32m    338\u001b[0m \u001b[0;34m\u001b[0m\u001b[0m\n\u001b[1;32m    339\u001b[0m     \u001b[0;32mif\u001b[0m \u001b[0mlen\u001b[0m\u001b[0;34m(\u001b[0m\u001b[0mself\u001b[0m\u001b[0;34m.\u001b[0m\u001b[0m_batch_times\u001b[0m\u001b[0;34m)\u001b[0m \u001b[0;34m>=\u001b[0m \u001b[0mself\u001b[0m\u001b[0;34m.\u001b[0m\u001b[0m_num_batches_for_timing_check\u001b[0m\u001b[0;34m:\u001b[0m\u001b[0;34m\u001b[0m\u001b[0;34m\u001b[0m\u001b[0m\n",
      "\u001b[0;32m~/.pyenv/versions/3.8.5/envs/py38_venv/lib/python3.8/site-packages/tensorflow/python/keras/callbacks.py\u001b[0m in \u001b[0;36m_call_batch_hook_helper\u001b[0;34m(self, hook_name, batch, logs)\u001b[0m\n\u001b[1;32m    373\u001b[0m     \u001b[0;32mfor\u001b[0m \u001b[0mcallback\u001b[0m \u001b[0;32min\u001b[0m \u001b[0mself\u001b[0m\u001b[0;34m.\u001b[0m\u001b[0mcallbacks\u001b[0m\u001b[0;34m:\u001b[0m\u001b[0;34m\u001b[0m\u001b[0;34m\u001b[0m\u001b[0m\n\u001b[1;32m    374\u001b[0m       \u001b[0mhook\u001b[0m \u001b[0;34m=\u001b[0m \u001b[0mgetattr\u001b[0m\u001b[0;34m(\u001b[0m\u001b[0mcallback\u001b[0m\u001b[0;34m,\u001b[0m \u001b[0mhook_name\u001b[0m\u001b[0;34m)\u001b[0m\u001b[0;34m\u001b[0m\u001b[0;34m\u001b[0m\u001b[0m\n\u001b[0;32m--> 375\u001b[0;31m       \u001b[0mhook\u001b[0m\u001b[0;34m(\u001b[0m\u001b[0mbatch\u001b[0m\u001b[0;34m,\u001b[0m \u001b[0mlogs\u001b[0m\u001b[0;34m)\u001b[0m\u001b[0;34m\u001b[0m\u001b[0;34m\u001b[0m\u001b[0m\n\u001b[0m\u001b[1;32m    376\u001b[0m \u001b[0;34m\u001b[0m\u001b[0m\n\u001b[1;32m    377\u001b[0m     \u001b[0;32mif\u001b[0m \u001b[0mself\u001b[0m\u001b[0;34m.\u001b[0m\u001b[0m_check_timing\u001b[0m\u001b[0;34m:\u001b[0m\u001b[0;34m\u001b[0m\u001b[0;34m\u001b[0m\u001b[0m\n",
      "\u001b[0;32m~/.pyenv/versions/3.8.5/envs/py38_venv/lib/python3.8/site-packages/tensorflow/python/keras/callbacks.py\u001b[0m in \u001b[0;36mon_train_batch_end\u001b[0;34m(self, batch, logs)\u001b[0m\n\u001b[1;32m   1027\u001b[0m \u001b[0;34m\u001b[0m\u001b[0m\n\u001b[1;32m   1028\u001b[0m   \u001b[0;32mdef\u001b[0m \u001b[0mon_train_batch_end\u001b[0m\u001b[0;34m(\u001b[0m\u001b[0mself\u001b[0m\u001b[0;34m,\u001b[0m \u001b[0mbatch\u001b[0m\u001b[0;34m,\u001b[0m \u001b[0mlogs\u001b[0m\u001b[0;34m=\u001b[0m\u001b[0;32mNone\u001b[0m\u001b[0;34m)\u001b[0m\u001b[0;34m:\u001b[0m\u001b[0;34m\u001b[0m\u001b[0;34m\u001b[0m\u001b[0m\n\u001b[0;32m-> 1029\u001b[0;31m     \u001b[0mself\u001b[0m\u001b[0;34m.\u001b[0m\u001b[0m_batch_update_progbar\u001b[0m\u001b[0;34m(\u001b[0m\u001b[0mbatch\u001b[0m\u001b[0;34m,\u001b[0m \u001b[0mlogs\u001b[0m\u001b[0;34m)\u001b[0m\u001b[0;34m\u001b[0m\u001b[0;34m\u001b[0m\u001b[0m\n\u001b[0m\u001b[1;32m   1030\u001b[0m \u001b[0;34m\u001b[0m\u001b[0m\n\u001b[1;32m   1031\u001b[0m   \u001b[0;32mdef\u001b[0m \u001b[0mon_test_batch_end\u001b[0m\u001b[0;34m(\u001b[0m\u001b[0mself\u001b[0m\u001b[0;34m,\u001b[0m \u001b[0mbatch\u001b[0m\u001b[0;34m,\u001b[0m \u001b[0mlogs\u001b[0m\u001b[0;34m=\u001b[0m\u001b[0;32mNone\u001b[0m\u001b[0;34m)\u001b[0m\u001b[0;34m:\u001b[0m\u001b[0;34m\u001b[0m\u001b[0;34m\u001b[0m\u001b[0m\n",
      "\u001b[0;32m~/.pyenv/versions/3.8.5/envs/py38_venv/lib/python3.8/site-packages/tensorflow/python/keras/callbacks.py\u001b[0m in \u001b[0;36m_batch_update_progbar\u001b[0;34m(self, batch, logs)\u001b[0m\n\u001b[1;32m   1100\u001b[0m       \u001b[0;31m# Only block async when verbose = 1.\u001b[0m\u001b[0;34m\u001b[0m\u001b[0;34m\u001b[0m\u001b[0;34m\u001b[0m\u001b[0m\n\u001b[1;32m   1101\u001b[0m       \u001b[0mlogs\u001b[0m \u001b[0;34m=\u001b[0m \u001b[0mtf_utils\u001b[0m\u001b[0;34m.\u001b[0m\u001b[0msync_to_numpy_or_python_type\u001b[0m\u001b[0;34m(\u001b[0m\u001b[0mlogs\u001b[0m\u001b[0;34m)\u001b[0m\u001b[0;34m\u001b[0m\u001b[0;34m\u001b[0m\u001b[0m\n\u001b[0;32m-> 1102\u001b[0;31m       \u001b[0mself\u001b[0m\u001b[0;34m.\u001b[0m\u001b[0mprogbar\u001b[0m\u001b[0;34m.\u001b[0m\u001b[0mupdate\u001b[0m\u001b[0;34m(\u001b[0m\u001b[0mself\u001b[0m\u001b[0;34m.\u001b[0m\u001b[0mseen\u001b[0m\u001b[0;34m,\u001b[0m \u001b[0mlist\u001b[0m\u001b[0;34m(\u001b[0m\u001b[0mlogs\u001b[0m\u001b[0;34m.\u001b[0m\u001b[0mitems\u001b[0m\u001b[0;34m(\u001b[0m\u001b[0;34m)\u001b[0m\u001b[0;34m)\u001b[0m\u001b[0;34m,\u001b[0m \u001b[0mfinalize\u001b[0m\u001b[0;34m=\u001b[0m\u001b[0;32mFalse\u001b[0m\u001b[0;34m)\u001b[0m\u001b[0;34m\u001b[0m\u001b[0;34m\u001b[0m\u001b[0m\n\u001b[0m\u001b[1;32m   1103\u001b[0m \u001b[0;34m\u001b[0m\u001b[0m\n\u001b[1;32m   1104\u001b[0m   \u001b[0;32mdef\u001b[0m \u001b[0m_finalize_progbar\u001b[0m\u001b[0;34m(\u001b[0m\u001b[0mself\u001b[0m\u001b[0;34m,\u001b[0m \u001b[0mlogs\u001b[0m\u001b[0;34m,\u001b[0m \u001b[0mcounter\u001b[0m\u001b[0;34m)\u001b[0m\u001b[0;34m:\u001b[0m\u001b[0;34m\u001b[0m\u001b[0;34m\u001b[0m\u001b[0m\n",
      "\u001b[0;32m~/.pyenv/versions/3.8.5/envs/py38_venv/lib/python3.8/site-packages/tensorflow/python/keras/utils/generic_utils.py\u001b[0m in \u001b[0;36mupdate\u001b[0;34m(self, current, values, finalize)\u001b[0m\n\u001b[1;32m    965\u001b[0m \u001b[0;34m\u001b[0m\u001b[0m\n\u001b[1;32m    966\u001b[0m       \u001b[0msys\u001b[0m\u001b[0;34m.\u001b[0m\u001b[0mstdout\u001b[0m\u001b[0;34m.\u001b[0m\u001b[0mwrite\u001b[0m\u001b[0;34m(\u001b[0m\u001b[0minfo\u001b[0m\u001b[0;34m)\u001b[0m\u001b[0;34m\u001b[0m\u001b[0;34m\u001b[0m\u001b[0m\n\u001b[0;32m--> 967\u001b[0;31m       \u001b[0msys\u001b[0m\u001b[0;34m.\u001b[0m\u001b[0mstdout\u001b[0m\u001b[0;34m.\u001b[0m\u001b[0mflush\u001b[0m\u001b[0;34m(\u001b[0m\u001b[0;34m)\u001b[0m\u001b[0;34m\u001b[0m\u001b[0;34m\u001b[0m\u001b[0m\n\u001b[0m\u001b[1;32m    968\u001b[0m \u001b[0;34m\u001b[0m\u001b[0m\n\u001b[1;32m    969\u001b[0m     \u001b[0;32melif\u001b[0m \u001b[0mself\u001b[0m\u001b[0;34m.\u001b[0m\u001b[0mverbose\u001b[0m \u001b[0;34m==\u001b[0m \u001b[0;36m2\u001b[0m\u001b[0;34m:\u001b[0m\u001b[0;34m\u001b[0m\u001b[0;34m\u001b[0m\u001b[0m\n",
      "\u001b[0;32m~/.pyenv/versions/3.8.5/envs/py38_venv/lib/python3.8/site-packages/ipykernel/iostream.py\u001b[0m in \u001b[0;36mflush\u001b[0;34m(self)\u001b[0m\n\u001b[1;32m    348\u001b[0m                 \u001b[0mself\u001b[0m\u001b[0;34m.\u001b[0m\u001b[0mpub_thread\u001b[0m\u001b[0;34m.\u001b[0m\u001b[0mschedule\u001b[0m\u001b[0;34m(\u001b[0m\u001b[0mevt\u001b[0m\u001b[0;34m.\u001b[0m\u001b[0mset\u001b[0m\u001b[0;34m)\u001b[0m\u001b[0;34m\u001b[0m\u001b[0;34m\u001b[0m\u001b[0m\n\u001b[1;32m    349\u001b[0m                 \u001b[0;31m# and give a timeout to avoid\u001b[0m\u001b[0;34m\u001b[0m\u001b[0;34m\u001b[0m\u001b[0;34m\u001b[0m\u001b[0m\n\u001b[0;32m--> 350\u001b[0;31m                 \u001b[0;32mif\u001b[0m \u001b[0;32mnot\u001b[0m \u001b[0mevt\u001b[0m\u001b[0;34m.\u001b[0m\u001b[0mwait\u001b[0m\u001b[0;34m(\u001b[0m\u001b[0mself\u001b[0m\u001b[0;34m.\u001b[0m\u001b[0mflush_timeout\u001b[0m\u001b[0;34m)\u001b[0m\u001b[0;34m:\u001b[0m\u001b[0;34m\u001b[0m\u001b[0;34m\u001b[0m\u001b[0m\n\u001b[0m\u001b[1;32m    351\u001b[0m                     \u001b[0;31m# write directly to __stderr__ instead of warning because\u001b[0m\u001b[0;34m\u001b[0m\u001b[0;34m\u001b[0m\u001b[0;34m\u001b[0m\u001b[0m\n\u001b[1;32m    352\u001b[0m                     \u001b[0;31m# if this is happening sys.stderr may be the problem.\u001b[0m\u001b[0;34m\u001b[0m\u001b[0;34m\u001b[0m\u001b[0;34m\u001b[0m\u001b[0m\n",
      "\u001b[0;32m~/.pyenv/versions/3.8.5/lib/python3.8/threading.py\u001b[0m in \u001b[0;36mwait\u001b[0;34m(self, timeout)\u001b[0m\n\u001b[1;32m    556\u001b[0m             \u001b[0msignaled\u001b[0m \u001b[0;34m=\u001b[0m \u001b[0mself\u001b[0m\u001b[0;34m.\u001b[0m\u001b[0m_flag\u001b[0m\u001b[0;34m\u001b[0m\u001b[0;34m\u001b[0m\u001b[0m\n\u001b[1;32m    557\u001b[0m             \u001b[0;32mif\u001b[0m \u001b[0;32mnot\u001b[0m \u001b[0msignaled\u001b[0m\u001b[0;34m:\u001b[0m\u001b[0;34m\u001b[0m\u001b[0;34m\u001b[0m\u001b[0m\n\u001b[0;32m--> 558\u001b[0;31m                 \u001b[0msignaled\u001b[0m \u001b[0;34m=\u001b[0m \u001b[0mself\u001b[0m\u001b[0;34m.\u001b[0m\u001b[0m_cond\u001b[0m\u001b[0;34m.\u001b[0m\u001b[0mwait\u001b[0m\u001b[0;34m(\u001b[0m\u001b[0mtimeout\u001b[0m\u001b[0;34m)\u001b[0m\u001b[0;34m\u001b[0m\u001b[0;34m\u001b[0m\u001b[0m\n\u001b[0m\u001b[1;32m    559\u001b[0m             \u001b[0;32mreturn\u001b[0m \u001b[0msignaled\u001b[0m\u001b[0;34m\u001b[0m\u001b[0;34m\u001b[0m\u001b[0m\n\u001b[1;32m    560\u001b[0m \u001b[0;34m\u001b[0m\u001b[0m\n",
      "\u001b[0;32m~/.pyenv/versions/3.8.5/lib/python3.8/threading.py\u001b[0m in \u001b[0;36mwait\u001b[0;34m(self, timeout)\u001b[0m\n\u001b[1;32m    304\u001b[0m             \u001b[0;32melse\u001b[0m\u001b[0;34m:\u001b[0m\u001b[0;34m\u001b[0m\u001b[0;34m\u001b[0m\u001b[0m\n\u001b[1;32m    305\u001b[0m                 \u001b[0;32mif\u001b[0m \u001b[0mtimeout\u001b[0m \u001b[0;34m>\u001b[0m \u001b[0;36m0\u001b[0m\u001b[0;34m:\u001b[0m\u001b[0;34m\u001b[0m\u001b[0;34m\u001b[0m\u001b[0m\n\u001b[0;32m--> 306\u001b[0;31m                     \u001b[0mgotit\u001b[0m \u001b[0;34m=\u001b[0m \u001b[0mwaiter\u001b[0m\u001b[0;34m.\u001b[0m\u001b[0macquire\u001b[0m\u001b[0;34m(\u001b[0m\u001b[0;32mTrue\u001b[0m\u001b[0;34m,\u001b[0m \u001b[0mtimeout\u001b[0m\u001b[0;34m)\u001b[0m\u001b[0;34m\u001b[0m\u001b[0;34m\u001b[0m\u001b[0m\n\u001b[0m\u001b[1;32m    307\u001b[0m                 \u001b[0;32melse\u001b[0m\u001b[0;34m:\u001b[0m\u001b[0;34m\u001b[0m\u001b[0;34m\u001b[0m\u001b[0m\n\u001b[1;32m    308\u001b[0m                     \u001b[0mgotit\u001b[0m \u001b[0;34m=\u001b[0m \u001b[0mwaiter\u001b[0m\u001b[0;34m.\u001b[0m\u001b[0macquire\u001b[0m\u001b[0;34m(\u001b[0m\u001b[0;32mFalse\u001b[0m\u001b[0;34m)\u001b[0m\u001b[0;34m\u001b[0m\u001b[0;34m\u001b[0m\u001b[0m\n",
      "\u001b[0;31mKeyboardInterrupt\u001b[0m: "
     ]
    }
   ],
   "source": [
    "model.fit(x_train, y_train, batch_size = 30, epochs=50, class_weight=class_weight)"
   ]
  },
  {
   "cell_type": "markdown",
   "id": "73e4fd19",
   "metadata": {},
   "source": [
    "# Test trained model"
   ]
  },
  {
   "cell_type": "code",
   "execution_count": null,
   "id": "6fd6d04b",
   "metadata": {},
   "outputs": [],
   "source": []
  },
  {
   "cell_type": "code",
   "execution_count": 299,
   "id": "5f66f1e2",
   "metadata": {},
   "outputs": [],
   "source": [
    "probability_model = tf.keras.Sequential([\n",
    "    model,\n",
    "    tf.keras.layers.Softmax()\n",
    "])"
   ]
  },
  {
   "cell_type": "code",
   "execution_count": 300,
   "id": "dce1c4d3",
   "metadata": {},
   "outputs": [
    {
     "data": {
      "text/plain": [
       "<tf.Tensor: shape=(5, 2), dtype=float32, numpy=\n",
       "array([[0.48996878, 0.5100313 ],\n",
       "       [0.48996878, 0.5100313 ],\n",
       "       [0.48996878, 0.5100313 ],\n",
       "       [0.48996878, 0.5100313 ],\n",
       "       [0.48996875, 0.5100312 ]], dtype=float32)>"
      ]
     },
     "execution_count": 300,
     "metadata": {},
     "output_type": "execute_result"
    }
   ],
   "source": [
    "result = probability_model(x_train[-5:])\n",
    "result"
   ]
  },
  {
   "cell_type": "code",
   "execution_count": 301,
   "id": "b5068bb8",
   "metadata": {},
   "outputs": [
    {
     "data": {
      "text/plain": [
       "array([1., 1., 1., 1., 1.], dtype=float32)"
      ]
     },
     "execution_count": 301,
     "metadata": {},
     "output_type": "execute_result"
    }
   ],
   "source": [
    "y_train[-5:]"
   ]
  },
  {
   "cell_type": "code",
   "execution_count": 302,
   "id": "b095c58f",
   "metadata": {},
   "outputs": [
    {
     "data": {
      "text/plain": [
       "<tf.Tensor: shape=(5, 2), dtype=float32, numpy=\n",
       "array([[0.48996878, 0.5100313 ],\n",
       "       [0.48996878, 0.5100313 ],\n",
       "       [0.48996878, 0.5100313 ],\n",
       "       [0.48996878, 0.5100313 ],\n",
       "       [0.48996875, 0.5100312 ]], dtype=float32)>"
      ]
     },
     "execution_count": 302,
     "metadata": {},
     "output_type": "execute_result"
    }
   ],
   "source": [
    "result = probability_model(x_train[:5])\n",
    "result"
   ]
  },
  {
   "cell_type": "code",
   "execution_count": 303,
   "id": "da643145",
   "metadata": {},
   "outputs": [
    {
     "data": {
      "text/plain": [
       "array([0., 0., 0., 0., 0.], dtype=float32)"
      ]
     },
     "execution_count": 303,
     "metadata": {},
     "output_type": "execute_result"
    }
   ],
   "source": [
    "y_train[:5]"
   ]
  },
  {
   "cell_type": "code",
   "execution_count": null,
   "id": "cd788d27",
   "metadata": {},
   "outputs": [],
   "source": []
  },
  {
   "cell_type": "code",
   "execution_count": null,
   "id": "ae83cf97",
   "metadata": {},
   "outputs": [],
   "source": []
  }
 ],
 "metadata": {
  "jupytext": {
   "formats": "ipynb,auto:light"
  },
  "kernelspec": {
   "display_name": "Python 3",
   "language": "python",
   "name": "python3"
  },
  "language_info": {
   "codemirror_mode": {
    "name": "ipython",
    "version": 3
   },
   "file_extension": ".py",
   "mimetype": "text/x-python",
   "name": "python",
   "nbconvert_exporter": "python",
   "pygments_lexer": "ipython3",
   "version": "3.8.5"
  }
 },
 "nbformat": 4,
 "nbformat_minor": 5
}
